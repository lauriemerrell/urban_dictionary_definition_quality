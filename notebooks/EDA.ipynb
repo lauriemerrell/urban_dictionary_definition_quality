{
 "cells": [
  {
   "cell_type": "code",
   "execution_count": 1,
   "metadata": {},
   "outputs": [],
   "source": [
    "import pandas as pd\n",
    "import numpy as np\n",
    "import matplotlib"
   ]
  },
  {
   "cell_type": "code",
   "execution_count": 2,
   "metadata": {},
   "outputs": [
    {
     "name": "stderr",
     "output_type": "stream",
     "text": [
      "/Users/laurie/anaconda3/envs/nlp/lib/python3.6/site-packages/IPython/core/interactiveshell.py:3072: DtypeWarning: Columns (3,7,8,9,10,11) have mixed types.Specify dtype option on import or set low_memory=False.\n",
      "  interactivity=interactivity, compiler=compiler, result=result)\n"
     ]
    }
   ],
   "source": [
    "# load data\n",
    "# note: had to manually correct line 3692 -- the fields were shifted over by one place; https://stackoverflow.com/questions/18039057/python-pandas-error-tokenizing-data\n",
    "data_raw = pd.read_csv('../data/urbandict-word-defs.csv')"
   ]
  },
  {
   "cell_type": "markdown",
   "metadata": {},
   "source": [
    "# Inspect for & clean up corrupt data"
   ]
  },
  {
   "cell_type": "code",
   "execution_count": 3,
   "metadata": {},
   "outputs": [
    {
     "data": {
      "text/plain": [
       "Index(['word_id', 'word', 'up_votes', 'down_votes', 'author', 'definition',\n",
       "       'Unnamed: 6', 'Unnamed: 7', 'Unnamed: 8', 'Unnamed: 9', 'Unnamed: 10',\n",
       "       'Unnamed: 11'],\n",
       "      dtype='object')"
      ]
     },
     "execution_count": 3,
     "metadata": {},
     "output_type": "execute_result"
    }
   ],
   "source": [
    "# inspect columns; we have some extra columns indicating corrupt data\n",
    "data_raw.columns"
   ]
  },
  {
   "cell_type": "code",
   "execution_count": 4,
   "metadata": {},
   "outputs": [],
   "source": [
    "# pull out the data with extra columns\n",
    "extra_data = data_raw[data_raw['Unnamed: 6'].notnull() | data_raw['Unnamed: 7'].notnull() | data_raw['Unnamed: 8'].notnull() | data_raw['Unnamed: 9'].notnull() | data_raw['Unnamed: 10'].notnull() | data_raw['Unnamed: 11'].notnull()]"
   ]
  },
  {
   "cell_type": "code",
   "execution_count": 5,
   "metadata": {},
   "outputs": [
    {
     "data": {
      "text/plain": [
       "663058"
      ]
     },
     "execution_count": 5,
     "metadata": {},
     "output_type": "execute_result"
    }
   ],
   "source": [
    "# how many unique words are defined?\n",
    "len(data_raw.word.unique())"
   ]
  },
  {
   "cell_type": "code",
   "execution_count": 6,
   "metadata": {},
   "outputs": [
    {
     "data": {
      "text/plain": [
       "117"
      ]
     },
     "execution_count": 6,
     "metadata": {},
     "output_type": "execute_result"
    }
   ],
   "source": [
    "# how many words have definitions with extra columns?\n",
    "len(extra_data.word.unique())"
   ]
  },
  {
   "cell_type": "code",
   "execution_count": 7,
   "metadata": {},
   "outputs": [
    {
     "data": {
      "text/plain": [
       "0.00017645515173634886"
      ]
     },
     "execution_count": 7,
     "metadata": {},
     "output_type": "execute_result"
    }
   ],
   "source": [
    "# less than 1% of the total words are affected by the corruption\n",
    "117/663058"
   ]
  },
  {
   "cell_type": "code",
   "execution_count": 8,
   "metadata": {},
   "outputs": [
    {
     "data": {
      "text/plain": [
       "0.0001945497460839711"
      ]
     },
     "execution_count": 8,
     "metadata": {},
     "output_type": "execute_result"
    }
   ],
   "source": [
    "# how much of the total *data* is affected? similar proportion\n",
    "len(extra_data)/len(data_raw)"
   ]
  },
  {
   "cell_type": "code",
   "execution_count": 9,
   "metadata": {},
   "outputs": [
    {
     "data": {
      "text/html": [
       "<div>\n",
       "<style scoped>\n",
       "    .dataframe tbody tr th:only-of-type {\n",
       "        vertical-align: middle;\n",
       "    }\n",
       "\n",
       "    .dataframe tbody tr th {\n",
       "        vertical-align: top;\n",
       "    }\n",
       "\n",
       "    .dataframe thead th {\n",
       "        text-align: right;\n",
       "    }\n",
       "</style>\n",
       "<table border=\"1\" class=\"dataframe\">\n",
       "  <thead>\n",
       "    <tr style=\"text-align: right;\">\n",
       "      <th></th>\n",
       "      <th>word_id</th>\n",
       "      <th>word</th>\n",
       "      <th>up_votes</th>\n",
       "      <th>down_votes</th>\n",
       "      <th>author</th>\n",
       "      <th>definition</th>\n",
       "      <th>Unnamed: 6</th>\n",
       "      <th>Unnamed: 7</th>\n",
       "      <th>Unnamed: 8</th>\n",
       "      <th>Unnamed: 9</th>\n",
       "      <th>Unnamed: 10</th>\n",
       "      <th>Unnamed: 11</th>\n",
       "    </tr>\n",
       "  </thead>\n",
       "  <tbody>\n",
       "    <tr>\n",
       "      <th>0</th>\n",
       "      <td>7</td>\n",
       "      <td>Janky</td>\n",
       "      <td>296</td>\n",
       "      <td>255</td>\n",
       "      <td>dc397b2f</td>\n",
       "      <td>Undesirable; less-than optimum.</td>\n",
       "      <td>NaN</td>\n",
       "      <td>NaN</td>\n",
       "      <td>NaN</td>\n",
       "      <td>NaN</td>\n",
       "      <td>NaN</td>\n",
       "      <td>NaN</td>\n",
       "    </tr>\n",
       "    <tr>\n",
       "      <th>1</th>\n",
       "      <td>8</td>\n",
       "      <td>slumpin'</td>\n",
       "      <td>16</td>\n",
       "      <td>37</td>\n",
       "      <td>dc397b2f</td>\n",
       "      <td>low down and funky, but [knee deep] enough to ...</td>\n",
       "      <td>NaN</td>\n",
       "      <td>NaN</td>\n",
       "      <td>NaN</td>\n",
       "      <td>NaN</td>\n",
       "      <td>NaN</td>\n",
       "      <td>NaN</td>\n",
       "    </tr>\n",
       "    <tr>\n",
       "      <th>2</th>\n",
       "      <td>9</td>\n",
       "      <td>yayeeyay</td>\n",
       "      <td>19</td>\n",
       "      <td>27</td>\n",
       "      <td>dc397b2f</td>\n",
       "      <td>affirmation; suggestion of encouragement, appr...</td>\n",
       "      <td>NaN</td>\n",
       "      <td>NaN</td>\n",
       "      <td>NaN</td>\n",
       "      <td>NaN</td>\n",
       "      <td>NaN</td>\n",
       "      <td>NaN</td>\n",
       "    </tr>\n",
       "    <tr>\n",
       "      <th>3</th>\n",
       "      <td>12</td>\n",
       "      <td>hard-core</td>\n",
       "      <td>162</td>\n",
       "      <td>96</td>\n",
       "      <td>d1610749</td>\n",
       "      <td>anything out of our league that can be good or...</td>\n",
       "      <td>NaN</td>\n",
       "      <td>NaN</td>\n",
       "      <td>NaN</td>\n",
       "      <td>NaN</td>\n",
       "      <td>NaN</td>\n",
       "      <td>NaN</td>\n",
       "    </tr>\n",
       "    <tr>\n",
       "      <th>4</th>\n",
       "      <td>13</td>\n",
       "      <td>brutal</td>\n",
       "      <td>12</td>\n",
       "      <td>45</td>\n",
       "      <td>40ece1ef</td>\n",
       "      <td>anything that makes you sweat</td>\n",
       "      <td>NaN</td>\n",
       "      <td>NaN</td>\n",
       "      <td>NaN</td>\n",
       "      <td>NaN</td>\n",
       "      <td>NaN</td>\n",
       "      <td>NaN</td>\n",
       "    </tr>\n",
       "  </tbody>\n",
       "</table>\n",
       "</div>"
      ],
      "text/plain": [
       "   word_id       word up_votes down_votes    author  \\\n",
       "0        7      Janky      296        255  dc397b2f   \n",
       "1        8   slumpin'       16         37  dc397b2f   \n",
       "2        9   yayeeyay       19         27  dc397b2f   \n",
       "3       12  hard-core      162         96  d1610749   \n",
       "4       13     brutal       12         45  40ece1ef   \n",
       "\n",
       "                                          definition Unnamed: 6 Unnamed: 7  \\\n",
       "0                    Undesirable; less-than optimum.        NaN        NaN   \n",
       "1  low down and funky, but [knee deep] enough to ...        NaN        NaN   \n",
       "2  affirmation; suggestion of encouragement, appr...        NaN        NaN   \n",
       "3  anything out of our league that can be good or...        NaN        NaN   \n",
       "4                      anything that makes you sweat        NaN        NaN   \n",
       "\n",
       "  Unnamed: 8 Unnamed: 9 Unnamed: 10 Unnamed: 11  \n",
       "0        NaN        NaN         NaN         NaN  \n",
       "1        NaN        NaN         NaN         NaN  \n",
       "2        NaN        NaN         NaN         NaN  \n",
       "3        NaN        NaN         NaN         NaN  \n",
       "4        NaN        NaN         NaN         NaN  "
      ]
     },
     "execution_count": 9,
     "metadata": {},
     "output_type": "execute_result"
    }
   ],
   "source": [
    "data_raw.head()"
   ]
  },
  {
   "cell_type": "code",
   "execution_count": 10,
   "metadata": {},
   "outputs": [],
   "source": [
    "# seems safe to drop rows that have the extra columns populated - not worth parsing out the corrupted data\n",
    "data = data_raw[data_raw['Unnamed: 6'].isnull() & data_raw['Unnamed: 7'].isnull() & data_raw['Unnamed: 8'].isnull() & data_raw['Unnamed: 9'].isnull() & data_raw['Unnamed: 10'].isnull() & data_raw['Unnamed: 11'].isnull()].copy()"
   ]
  },
  {
   "cell_type": "code",
   "execution_count": 11,
   "metadata": {},
   "outputs": [],
   "source": [
    "# drop the now-empty columns \n",
    "data.dropna(axis = 1, how = \"all\", inplace = True)"
   ]
  },
  {
   "cell_type": "code",
   "execution_count": 12,
   "metadata": {},
   "outputs": [
    {
     "data": {
      "text/plain": [
       "word_id        int64\n",
       "word          object\n",
       "up_votes      object\n",
       "down_votes    object\n",
       "author        object\n",
       "definition    object\n",
       "dtype: object"
      ]
     },
     "execution_count": 12,
     "metadata": {},
     "output_type": "execute_result"
    }
   ],
   "source": [
    "data.dtypes"
   ]
  },
  {
   "cell_type": "code",
   "execution_count": 13,
   "metadata": {},
   "outputs": [
    {
     "data": {
      "text/plain": [
       "array([None, '0'], dtype=object)"
      ]
     },
     "execution_count": 13,
     "metadata": {},
     "output_type": "execute_result"
    }
   ],
   "source": [
    "# there are no fractional down votes, but there are some < 0?\n",
    "# looked directly on Urban Dictionary and they do appear on the site... not clear how/why (seems corrupt)\n",
    "test = data['down_votes'].astype('str').str.split(\".\", expand = True)\n",
    "test[1].unique()"
   ]
  },
  {
   "cell_type": "code",
   "execution_count": 14,
   "metadata": {},
   "outputs": [],
   "source": [
    "# make the votes numeric\n",
    "data['up_votes'] = pd.to_numeric(data['up_votes'])\n",
    "data['down_votes'] = pd.to_numeric(data['down_votes'])"
   ]
  },
  {
   "cell_type": "code",
   "execution_count": 15,
   "metadata": {},
   "outputs": [],
   "source": [
    "# there are some definitions (~ 100) with negative votes -- not clear why or how to interpret, dropping as invalid\n",
    "data = data[(data['up_votes'] > 0) & (data['down_votes'] > 0)]"
   ]
  },
  {
   "cell_type": "markdown",
   "metadata": {},
   "source": [
    "# Explore data"
   ]
  },
  {
   "cell_type": "markdown",
   "metadata": {},
   "source": [
    "## Category distributions"
   ]
  },
  {
   "cell_type": "code",
   "execution_count": 16,
   "metadata": {},
   "outputs": [],
   "source": [
    "# make a total votes column and a vote ratio column to explore\n",
    "data['total_votes'] = data['up_votes'] + data['down_votes']\n",
    "data['good_ratio'] = data['up_votes'] / data['total_votes']"
   ]
  },
  {
   "cell_type": "code",
   "execution_count": 17,
   "metadata": {},
   "outputs": [
    {
     "name": "stdout",
     "output_type": "stream",
     "text": [
      "604023\n",
      "981243\n"
     ]
    }
   ],
   "source": [
    "# how many words do we have? how many definitions?\n",
    "print(len(data['word'].unique()))\n",
    "print(len(data))\n",
    "# we mostly just have one definition per word"
   ]
  },
  {
   "cell_type": "code",
   "execution_count": 18,
   "metadata": {},
   "outputs": [
    {
     "data": {
      "text/plain": [
       "count    981243.000000\n",
       "mean        170.648328\n",
       "std        1031.351826\n",
       "min           2.000000\n",
       "25%          15.000000\n",
       "50%          39.000000\n",
       "75%         105.000000\n",
       "max      368136.000000\n",
       "Name: total_votes, dtype: float64"
      ]
     },
     "execution_count": 18,
     "metadata": {},
     "output_type": "execute_result"
    }
   ],
   "source": [
    "data['total_votes'].describe()"
   ]
  },
  {
   "cell_type": "code",
   "execution_count": 19,
   "metadata": {},
   "outputs": [
    {
     "data": {
      "text/plain": [
       "count    981243.000000\n",
       "mean          0.527565\n",
       "std           0.225929\n",
       "min           0.000624\n",
       "25%           0.340000\n",
       "50%           0.550000\n",
       "75%           0.714286\n",
       "max           0.995783\n",
       "Name: good_ratio, dtype: float64"
      ]
     },
     "execution_count": 19,
     "metadata": {},
     "output_type": "execute_result"
    }
   ],
   "source": [
    "data['good_ratio'].describe()"
   ]
  },
  {
   "cell_type": "code",
   "execution_count": 20,
   "metadata": {},
   "outputs": [
    {
     "data": {
      "text/html": [
       "<div>\n",
       "<style scoped>\n",
       "    .dataframe tbody tr th:only-of-type {\n",
       "        vertical-align: middle;\n",
       "    }\n",
       "\n",
       "    .dataframe tbody tr th {\n",
       "        vertical-align: top;\n",
       "    }\n",
       "\n",
       "    .dataframe thead th {\n",
       "        text-align: right;\n",
       "    }\n",
       "</style>\n",
       "<table border=\"1\" class=\"dataframe\">\n",
       "  <thead>\n",
       "    <tr style=\"text-align: right;\">\n",
       "      <th></th>\n",
       "      <th>word_id</th>\n",
       "      <th>up_votes</th>\n",
       "      <th>down_votes</th>\n",
       "      <th>total_votes</th>\n",
       "      <th>good_ratio</th>\n",
       "    </tr>\n",
       "  </thead>\n",
       "  <tbody>\n",
       "    <tr>\n",
       "      <th>count</th>\n",
       "      <td>7.955000e+03</td>\n",
       "      <td>7955.0</td>\n",
       "      <td>7955.0</td>\n",
       "      <td>7955.0</td>\n",
       "      <td>7955.0</td>\n",
       "    </tr>\n",
       "    <tr>\n",
       "      <th>mean</th>\n",
       "      <td>1.612870e+06</td>\n",
       "      <td>1.0</td>\n",
       "      <td>1.0</td>\n",
       "      <td>2.0</td>\n",
       "      <td>0.5</td>\n",
       "    </tr>\n",
       "    <tr>\n",
       "      <th>std</th>\n",
       "      <td>9.271169e+05</td>\n",
       "      <td>0.0</td>\n",
       "      <td>0.0</td>\n",
       "      <td>0.0</td>\n",
       "      <td>0.0</td>\n",
       "    </tr>\n",
       "    <tr>\n",
       "      <th>min</th>\n",
       "      <td>1.196000e+03</td>\n",
       "      <td>1.0</td>\n",
       "      <td>1.0</td>\n",
       "      <td>2.0</td>\n",
       "      <td>0.5</td>\n",
       "    </tr>\n",
       "    <tr>\n",
       "      <th>25%</th>\n",
       "      <td>7.327665e+05</td>\n",
       "      <td>1.0</td>\n",
       "      <td>1.0</td>\n",
       "      <td>2.0</td>\n",
       "      <td>0.5</td>\n",
       "    </tr>\n",
       "    <tr>\n",
       "      <th>50%</th>\n",
       "      <td>1.789698e+06</td>\n",
       "      <td>1.0</td>\n",
       "      <td>1.0</td>\n",
       "      <td>2.0</td>\n",
       "      <td>0.5</td>\n",
       "    </tr>\n",
       "    <tr>\n",
       "      <th>75%</th>\n",
       "      <td>2.493815e+06</td>\n",
       "      <td>1.0</td>\n",
       "      <td>1.0</td>\n",
       "      <td>2.0</td>\n",
       "      <td>0.5</td>\n",
       "    </tr>\n",
       "    <tr>\n",
       "      <th>max</th>\n",
       "      <td>2.856686e+06</td>\n",
       "      <td>1.0</td>\n",
       "      <td>1.0</td>\n",
       "      <td>2.0</td>\n",
       "      <td>0.5</td>\n",
       "    </tr>\n",
       "  </tbody>\n",
       "</table>\n",
       "</div>"
      ],
      "text/plain": [
       "            word_id  up_votes  down_votes  total_votes  good_ratio\n",
       "count  7.955000e+03    7955.0      7955.0       7955.0      7955.0\n",
       "mean   1.612870e+06       1.0         1.0          2.0         0.5\n",
       "std    9.271169e+05       0.0         0.0          0.0         0.0\n",
       "min    1.196000e+03       1.0         1.0          2.0         0.5\n",
       "25%    7.327665e+05       1.0         1.0          2.0         0.5\n",
       "50%    1.789698e+06       1.0         1.0          2.0         0.5\n",
       "75%    2.493815e+06       1.0         1.0          2.0         0.5\n",
       "max    2.856686e+06       1.0         1.0          2.0         0.5"
      ]
     },
     "execution_count": 20,
     "metadata": {},
     "output_type": "execute_result"
    }
   ],
   "source": [
    "# it seems like all the 2-vote definitions are literally identical, so should be dropped\n",
    "data[data['total_votes'] ==2].describe()"
   ]
  },
  {
   "cell_type": "code",
   "execution_count": 21,
   "metadata": {},
   "outputs": [],
   "source": [
    "data = data[data['total_votes'] > 2]"
   ]
  },
  {
   "cell_type": "code",
   "execution_count": 22,
   "metadata": {},
   "outputs": [
    {
     "data": {
      "text/plain": [
       "<AxesSubplot:>"
      ]
     },
     "execution_count": 22,
     "metadata": {},
     "output_type": "execute_result"
    },
    {
     "data": {
      "image/png": "[encoded data removed]",
      "text/plain": [
       "<Figure size 432x288 with 1 Axes>"
      ]
     },
     "metadata": {
      "needs_background": "light"
     },
     "output_type": "display_data"
    }
   ],
   "source": [
    "# mode is actaully slightly above .5\n",
    "data['good_ratio'].hist(bins = 30)"
   ]
  },
  {
   "cell_type": "code",
   "execution_count": 23,
   "metadata": {},
   "outputs": [],
   "source": [
    "# try equal bins and see what it looks like -- seems reasonable\n",
    "data['cat'] = pd.qcut(data['good_ratio'], q = 3, labels = [\"bad\", \"controversial\", \"good\"])"
   ]
  },
  {
   "cell_type": "markdown",
   "metadata": {},
   "source": [
    "## Author"
   ]
  },
  {
   "cell_type": "code",
   "execution_count": 24,
   "metadata": {},
   "outputs": [
    {
     "data": {
      "text/plain": [
       "582548"
      ]
     },
     "execution_count": 24,
     "metadata": {},
     "output_type": "execute_result"
    }
   ],
   "source": [
    "# look at authors - most authors are only going to have one defn.\n",
    "len(data['author'].unique())"
   ]
  },
  {
   "cell_type": "code",
   "execution_count": 25,
   "metadata": {},
   "outputs": [
    {
     "data": {
      "text/plain": [
       "count    582548.000000\n",
       "mean          1.670743\n",
       "std          21.665324\n",
       "min           1.000000\n",
       "25%           1.000000\n",
       "50%           1.000000\n",
       "75%           1.000000\n",
       "max       15814.000000\n",
       "dtype: float64"
      ]
     },
     "execution_count": 25,
     "metadata": {},
     "output_type": "execute_result"
    }
   ],
   "source": [
    "# clearly there is at least one author who writes a LOT more than other people\n",
    "# see below - looks like it's \"anonymous\"\n",
    "data.groupby('author').size().describe()"
   ]
  },
  {
   "cell_type": "code",
   "execution_count": 26,
   "metadata": {},
   "outputs": [
    {
     "data": {
      "text/plain": [
       "author\n",
       "a6c97ba3    15814\n",
       "2438f900     1210\n",
       "19de25da     1139\n",
       "21cc121a      991\n",
       "95a957f4      939\n",
       "            ...  \n",
       "a713df77        1\n",
       "a714028f        1\n",
       "a7141b9c        1\n",
       "a7148490        1\n",
       "1-Dec-56        1\n",
       "Length: 582548, dtype: int64"
      ]
     },
     "execution_count": 26,
     "metadata": {},
     "output_type": "execute_result"
    }
   ],
   "source": [
    "# confirm - there is an outlier author\n",
    "data.groupby('author').size().sort_values(ascending = False)"
   ]
  },
  {
   "cell_type": "code",
   "execution_count": 27,
   "metadata": {},
   "outputs": [
    {
     "data": {
      "text/plain": [
       "count    15814.000000\n",
       "mean         0.463835\n",
       "std          0.228927\n",
       "min          0.012195\n",
       "25%          0.266028\n",
       "50%          0.461538\n",
       "75%          0.662095\n",
       "max          0.974359\n",
       "Name: good_ratio, dtype: float64"
      ]
     },
     "execution_count": 27,
     "metadata": {},
     "output_type": "execute_result"
    }
   ],
   "source": [
    "# this outlier author seems to have worse definitions than the community average - mean and median are both lower\n",
    "# checked directly on Urban Dictionary and this appears to be the author ID for \"anonymous\", so shouldn't drop\n",
    "data[data['author'] == \"a6c97ba3\"][\"good_ratio\"].describe()"
   ]
  },
  {
   "cell_type": "markdown",
   "metadata": {},
   "source": [
    "## Words"
   ]
  },
  {
   "cell_type": "code",
   "execution_count": 28,
   "metadata": {},
   "outputs": [
    {
     "data": {
      "text/plain": [
       "count    596918.000000\n",
       "mean          1.630482\n",
       "std           3.031301\n",
       "min           1.000000\n",
       "25%           1.000000\n",
       "50%           1.000000\n",
       "75%           1.000000\n",
       "max         351.000000\n",
       "dtype: float64"
      ]
     },
     "execution_count": 28,
     "metadata": {},
     "output_type": "execute_result"
    }
   ],
   "source": [
    "data.groupby('word').size().describe()"
   ]
  },
  {
   "cell_type": "code",
   "execution_count": 29,
   "metadata": {},
   "outputs": [],
   "source": [
    "word_cts = data.groupby('word').size().reset_index().rename(columns = {0:'ct'})"
   ]
  },
  {
   "cell_type": "code",
   "execution_count": 30,
   "metadata": {},
   "outputs": [
    {
     "data": {
      "text/html": [
       "<div>\n",
       "<style scoped>\n",
       "    .dataframe tbody tr th:only-of-type {\n",
       "        vertical-align: middle;\n",
       "    }\n",
       "\n",
       "    .dataframe tbody tr th {\n",
       "        vertical-align: top;\n",
       "    }\n",
       "\n",
       "    .dataframe thead th {\n",
       "        text-align: right;\n",
       "    }\n",
       "</style>\n",
       "<table border=\"1\" class=\"dataframe\">\n",
       "  <thead>\n",
       "    <tr style=\"text-align: right;\">\n",
       "      <th></th>\n",
       "      <th>ct</th>\n",
       "    </tr>\n",
       "  </thead>\n",
       "  <tbody>\n",
       "    <tr>\n",
       "      <th>count</th>\n",
       "      <td>124732.000000</td>\n",
       "    </tr>\n",
       "    <tr>\n",
       "      <th>mean</th>\n",
       "      <td>4.017237</td>\n",
       "    </tr>\n",
       "    <tr>\n",
       "      <th>std</th>\n",
       "      <td>6.064049</td>\n",
       "    </tr>\n",
       "    <tr>\n",
       "      <th>min</th>\n",
       "      <td>2.000000</td>\n",
       "    </tr>\n",
       "    <tr>\n",
       "      <th>25%</th>\n",
       "      <td>2.000000</td>\n",
       "    </tr>\n",
       "    <tr>\n",
       "      <th>50%</th>\n",
       "      <td>2.000000</td>\n",
       "    </tr>\n",
       "    <tr>\n",
       "      <th>75%</th>\n",
       "      <td>4.000000</td>\n",
       "    </tr>\n",
       "    <tr>\n",
       "      <th>max</th>\n",
       "      <td>351.000000</td>\n",
       "    </tr>\n",
       "  </tbody>\n",
       "</table>\n",
       "</div>"
      ],
      "text/plain": [
       "                  ct\n",
       "count  124732.000000\n",
       "mean        4.017237\n",
       "std         6.064049\n",
       "min         2.000000\n",
       "25%         2.000000\n",
       "50%         2.000000\n",
       "75%         4.000000\n",
       "max       351.000000"
      ]
     },
     "execution_count": 30,
     "metadata": {},
     "output_type": "execute_result"
    }
   ],
   "source": [
    "word_cts[word_cts['ct']>1].describe()"
   ]
  },
  {
   "cell_type": "code",
   "execution_count": 31,
   "metadata": {
    "scrolled": true
   },
   "outputs": [
    {
     "data": {
      "text/html": [
       "<div>\n",
       "<style scoped>\n",
       "    .dataframe tbody tr th:only-of-type {\n",
       "        vertical-align: middle;\n",
       "    }\n",
       "\n",
       "    .dataframe tbody tr th {\n",
       "        vertical-align: top;\n",
       "    }\n",
       "\n",
       "    .dataframe thead th {\n",
       "        text-align: right;\n",
       "    }\n",
       "</style>\n",
       "<table border=\"1\" class=\"dataframe\">\n",
       "  <thead>\n",
       "    <tr style=\"text-align: right;\">\n",
       "      <th></th>\n",
       "      <th>word</th>\n",
       "      <th>ct</th>\n",
       "    </tr>\n",
       "  </thead>\n",
       "  <tbody>\n",
       "    <tr>\n",
       "      <th>362</th>\n",
       "      <td>#NAME?</td>\n",
       "      <td>186</td>\n",
       "    </tr>\n",
       "    <tr>\n",
       "      <th>4206</th>\n",
       "      <td>420</td>\n",
       "      <td>126</td>\n",
       "    </tr>\n",
       "    <tr>\n",
       "      <th>4593</th>\n",
       "      <td>50 cent</td>\n",
       "      <td>101</td>\n",
       "    </tr>\n",
       "    <tr>\n",
       "      <th>42182</th>\n",
       "      <td>Chode</td>\n",
       "      <td>148</td>\n",
       "    </tr>\n",
       "    <tr>\n",
       "      <th>67644</th>\n",
       "      <td>Emo</td>\n",
       "      <td>104</td>\n",
       "    </tr>\n",
       "    <tr>\n",
       "      <th>85419</th>\n",
       "      <td>George Bush</td>\n",
       "      <td>130</td>\n",
       "    </tr>\n",
       "    <tr>\n",
       "      <th>85480</th>\n",
       "      <td>George W. Bush</td>\n",
       "      <td>242</td>\n",
       "    </tr>\n",
       "    <tr>\n",
       "      <th>88060</th>\n",
       "      <td>God</td>\n",
       "      <td>216</td>\n",
       "    </tr>\n",
       "    <tr>\n",
       "      <th>90491</th>\n",
       "      <td>Green Day</td>\n",
       "      <td>102</td>\n",
       "    </tr>\n",
       "    <tr>\n",
       "      <th>100514</th>\n",
       "      <td>Hot Topic</td>\n",
       "      <td>125</td>\n",
       "    </tr>\n",
       "    <tr>\n",
       "      <th>126735</th>\n",
       "      <td>MTV</td>\n",
       "      <td>163</td>\n",
       "    </tr>\n",
       "    <tr>\n",
       "      <th>130973</th>\n",
       "      <td>McDonalds</td>\n",
       "      <td>129</td>\n",
       "    </tr>\n",
       "    <tr>\n",
       "      <th>153124</th>\n",
       "      <td>Paris Hilton</td>\n",
       "      <td>103</td>\n",
       "    </tr>\n",
       "    <tr>\n",
       "      <th>276774</th>\n",
       "      <td>bush</td>\n",
       "      <td>130</td>\n",
       "    </tr>\n",
       "    <tr>\n",
       "      <th>285464</th>\n",
       "      <td>chav</td>\n",
       "      <td>135</td>\n",
       "    </tr>\n",
       "    <tr>\n",
       "      <th>289844</th>\n",
       "      <td>chode</td>\n",
       "      <td>277</td>\n",
       "    </tr>\n",
       "    <tr>\n",
       "      <th>305850</th>\n",
       "      <td>crunk</td>\n",
       "      <td>206</td>\n",
       "    </tr>\n",
       "    <tr>\n",
       "      <th>307691</th>\n",
       "      <td>cunt</td>\n",
       "      <td>125</td>\n",
       "    </tr>\n",
       "    <tr>\n",
       "      <th>327714</th>\n",
       "      <td>dude</td>\n",
       "      <td>161</td>\n",
       "    </tr>\n",
       "    <tr>\n",
       "      <th>333260</th>\n",
       "      <td>emo</td>\n",
       "      <td>351</td>\n",
       "    </tr>\n",
       "    <tr>\n",
       "      <th>340305</th>\n",
       "      <td>fart</td>\n",
       "      <td>128</td>\n",
       "    </tr>\n",
       "    <tr>\n",
       "      <th>355969</th>\n",
       "      <td>fucktard</td>\n",
       "      <td>160</td>\n",
       "    </tr>\n",
       "    <tr>\n",
       "      <th>359599</th>\n",
       "      <td>gangsta</td>\n",
       "      <td>103</td>\n",
       "    </tr>\n",
       "    <tr>\n",
       "      <th>362435</th>\n",
       "      <td>george bush</td>\n",
       "      <td>101</td>\n",
       "    </tr>\n",
       "    <tr>\n",
       "      <th>367631</th>\n",
       "      <td>god</td>\n",
       "      <td>181</td>\n",
       "    </tr>\n",
       "    <tr>\n",
       "      <th>370299</th>\n",
       "      <td>goth</td>\n",
       "      <td>142</td>\n",
       "    </tr>\n",
       "    <tr>\n",
       "      <th>371761</th>\n",
       "      <td>green day</td>\n",
       "      <td>114</td>\n",
       "    </tr>\n",
       "    <tr>\n",
       "      <th>380673</th>\n",
       "      <td>hella</td>\n",
       "      <td>106</td>\n",
       "    </tr>\n",
       "    <tr>\n",
       "      <th>399978</th>\n",
       "      <td>jelly bracelets</td>\n",
       "      <td>131</td>\n",
       "    </tr>\n",
       "    <tr>\n",
       "      <th>417820</th>\n",
       "      <td>life</td>\n",
       "      <td>123</td>\n",
       "    </tr>\n",
       "    <tr>\n",
       "      <th>420444</th>\n",
       "      <td>lol</td>\n",
       "      <td>113</td>\n",
       "    </tr>\n",
       "    <tr>\n",
       "      <th>422114</th>\n",
       "      <td>love</td>\n",
       "      <td>229</td>\n",
       "    </tr>\n",
       "    <tr>\n",
       "      <th>431816</th>\n",
       "      <td>meh</td>\n",
       "      <td>120</td>\n",
       "    </tr>\n",
       "    <tr>\n",
       "      <th>433263</th>\n",
       "      <td>metrosexual</td>\n",
       "      <td>143</td>\n",
       "    </tr>\n",
       "    <tr>\n",
       "      <th>444291</th>\n",
       "      <td>myspace</td>\n",
       "      <td>191</td>\n",
       "    </tr>\n",
       "    <tr>\n",
       "      <th>449510</th>\n",
       "      <td>nigga</td>\n",
       "      <td>159</td>\n",
       "    </tr>\n",
       "    <tr>\n",
       "      <th>449811</th>\n",
       "      <td>nigger</td>\n",
       "      <td>131</td>\n",
       "    </tr>\n",
       "    <tr>\n",
       "      <th>464254</th>\n",
       "      <td>paris hilton</td>\n",
       "      <td>101</td>\n",
       "    </tr>\n",
       "    <tr>\n",
       "      <th>467183</th>\n",
       "      <td>penis</td>\n",
       "      <td>180</td>\n",
       "    </tr>\n",
       "    <tr>\n",
       "      <th>471241</th>\n",
       "      <td>pikey</td>\n",
       "      <td>125</td>\n",
       "    </tr>\n",
       "    <tr>\n",
       "      <th>471503</th>\n",
       "      <td>pimp</td>\n",
       "      <td>142</td>\n",
       "    </tr>\n",
       "    <tr>\n",
       "      <th>479683</th>\n",
       "      <td>poser</td>\n",
       "      <td>153</td>\n",
       "    </tr>\n",
       "    <tr>\n",
       "      <th>481548</th>\n",
       "      <td>prep</td>\n",
       "      <td>170</td>\n",
       "    </tr>\n",
       "    <tr>\n",
       "      <th>481606</th>\n",
       "      <td>preppy</td>\n",
       "      <td>141</td>\n",
       "    </tr>\n",
       "    <tr>\n",
       "      <th>487245</th>\n",
       "      <td>pwned</td>\n",
       "      <td>114</td>\n",
       "    </tr>\n",
       "    <tr>\n",
       "      <th>491007</th>\n",
       "      <td>rap</td>\n",
       "      <td>220</td>\n",
       "    </tr>\n",
       "    <tr>\n",
       "      <th>493347</th>\n",
       "      <td>redneck</td>\n",
       "      <td>103</td>\n",
       "    </tr>\n",
       "    <tr>\n",
       "      <th>494125</th>\n",
       "      <td>religion</td>\n",
       "      <td>136</td>\n",
       "    </tr>\n",
       "    <tr>\n",
       "      <th>501138</th>\n",
       "      <td>runescape</td>\n",
       "      <td>111</td>\n",
       "    </tr>\n",
       "    <tr>\n",
       "      <th>505702</th>\n",
       "      <td>scene</td>\n",
       "      <td>254</td>\n",
       "    </tr>\n",
       "    <tr>\n",
       "      <th>506798</th>\n",
       "      <td>school</td>\n",
       "      <td>187</td>\n",
       "    </tr>\n",
       "    <tr>\n",
       "      <th>511095</th>\n",
       "      <td>sex</td>\n",
       "      <td>101</td>\n",
       "    </tr>\n",
       "    <tr>\n",
       "      <th>522193</th>\n",
       "      <td>skeet</td>\n",
       "      <td>178</td>\n",
       "    </tr>\n",
       "    <tr>\n",
       "      <th>525156</th>\n",
       "      <td>slipknot</td>\n",
       "      <td>158</td>\n",
       "    </tr>\n",
       "    <tr>\n",
       "      <th>526152</th>\n",
       "      <td>slut</td>\n",
       "      <td>138</td>\n",
       "    </tr>\n",
       "    <tr>\n",
       "      <th>563171</th>\n",
       "      <td>townie</td>\n",
       "      <td>140</td>\n",
       "    </tr>\n",
       "    <tr>\n",
       "      <th>581004</th>\n",
       "      <td>weed</td>\n",
       "      <td>109</td>\n",
       "    </tr>\n",
       "    <tr>\n",
       "      <th>585647</th>\n",
       "      <td>wigger</td>\n",
       "      <td>109</td>\n",
       "    </tr>\n",
       "    <tr>\n",
       "      <th>594153</th>\n",
       "      <td>your mom</td>\n",
       "      <td>124</td>\n",
       "    </tr>\n",
       "  </tbody>\n",
       "</table>\n",
       "</div>"
      ],
      "text/plain": [
       "                   word   ct\n",
       "362              #NAME?  186\n",
       "4206                420  126\n",
       "4593            50 cent  101\n",
       "42182             Chode  148\n",
       "67644               Emo  104\n",
       "85419       George Bush  130\n",
       "85480    George W. Bush  242\n",
       "88060               God  216\n",
       "90491         Green Day  102\n",
       "100514        Hot Topic  125\n",
       "126735              MTV  163\n",
       "130973        McDonalds  129\n",
       "153124     Paris Hilton  103\n",
       "276774             bush  130\n",
       "285464             chav  135\n",
       "289844            chode  277\n",
       "305850            crunk  206\n",
       "307691             cunt  125\n",
       "327714             dude  161\n",
       "333260              emo  351\n",
       "340305             fart  128\n",
       "355969         fucktard  160\n",
       "359599          gangsta  103\n",
       "362435      george bush  101\n",
       "367631              god  181\n",
       "370299             goth  142\n",
       "371761        green day  114\n",
       "380673            hella  106\n",
       "399978  jelly bracelets  131\n",
       "417820             life  123\n",
       "420444              lol  113\n",
       "422114             love  229\n",
       "431816              meh  120\n",
       "433263      metrosexual  143\n",
       "444291          myspace  191\n",
       "449510            nigga  159\n",
       "449811           nigger  131\n",
       "464254     paris hilton  101\n",
       "467183            penis  180\n",
       "471241            pikey  125\n",
       "471503             pimp  142\n",
       "479683            poser  153\n",
       "481548             prep  170\n",
       "481606           preppy  141\n",
       "487245            pwned  114\n",
       "491007              rap  220\n",
       "493347          redneck  103\n",
       "494125         religion  136\n",
       "501138        runescape  111\n",
       "505702            scene  254\n",
       "506798           school  187\n",
       "511095              sex  101\n",
       "522193            skeet  178\n",
       "525156         slipknot  158\n",
       "526152             slut  138\n",
       "563171           townie  140\n",
       "581004             weed  109\n",
       "585647           wigger  109\n",
       "594153         your mom  124"
      ]
     },
     "execution_count": 31,
     "metadata": {},
     "output_type": "execute_result"
    }
   ],
   "source": [
    "word_cts[word_cts['ct'] > 100]"
   ]
  },
  {
   "cell_type": "code",
   "execution_count": 32,
   "metadata": {},
   "outputs": [
    {
     "data": {
      "text/html": [
       "<div>\n",
       "<style scoped>\n",
       "    .dataframe tbody tr th:only-of-type {\n",
       "        vertical-align: middle;\n",
       "    }\n",
       "\n",
       "    .dataframe tbody tr th {\n",
       "        vertical-align: top;\n",
       "    }\n",
       "\n",
       "    .dataframe thead th {\n",
       "        text-align: right;\n",
       "    }\n",
       "</style>\n",
       "<table border=\"1\" class=\"dataframe\">\n",
       "  <thead>\n",
       "    <tr style=\"text-align: right;\">\n",
       "      <th></th>\n",
       "      <th>word_id</th>\n",
       "      <th>word</th>\n",
       "      <th>up_votes</th>\n",
       "      <th>down_votes</th>\n",
       "      <th>author</th>\n",
       "      <th>definition</th>\n",
       "      <th>total_votes</th>\n",
       "      <th>good_ratio</th>\n",
       "      <th>cat</th>\n",
       "    </tr>\n",
       "  </thead>\n",
       "  <tbody>\n",
       "    <tr>\n",
       "      <th>8439</th>\n",
       "      <td>21019</td>\n",
       "      <td>#NAME?</td>\n",
       "      <td>6</td>\n",
       "      <td>10.0</td>\n",
       "      <td>cef9b925</td>\n",
       "      <td>A suffix added to some words to add a ghetto s...</td>\n",
       "      <td>16.0</td>\n",
       "      <td>0.375000</td>\n",
       "      <td>bad</td>\n",
       "    </tr>\n",
       "    <tr>\n",
       "      <th>8443</th>\n",
       "      <td>21025</td>\n",
       "      <td>#NAME?</td>\n",
       "      <td>3</td>\n",
       "      <td>4.0</td>\n",
       "      <td>cef9b925</td>\n",
       "      <td>A suffix in replace of words that end with a -...</td>\n",
       "      <td>7.0</td>\n",
       "      <td>0.428571</td>\n",
       "      <td>controversial</td>\n",
       "    </tr>\n",
       "    <tr>\n",
       "      <th>9261</th>\n",
       "      <td>22597</td>\n",
       "      <td>#NAME?</td>\n",
       "      <td>12</td>\n",
       "      <td>14.0</td>\n",
       "      <td>25eb7360</td>\n",
       "      <td>used like pig latin and attached to the end of...</td>\n",
       "      <td>26.0</td>\n",
       "      <td>0.461538</td>\n",
       "      <td>controversial</td>\n",
       "    </tr>\n",
       "    <tr>\n",
       "      <th>9723</th>\n",
       "      <td>23572</td>\n",
       "      <td>#NAME?</td>\n",
       "      <td>7</td>\n",
       "      <td>11.0</td>\n",
       "      <td>e6ba9da5</td>\n",
       "      <td>one love</td>\n",
       "      <td>18.0</td>\n",
       "      <td>0.388889</td>\n",
       "      <td>bad</td>\n",
       "    </tr>\n",
       "    <tr>\n",
       "      <th>12744</th>\n",
       "      <td>30057</td>\n",
       "      <td>#NAME?</td>\n",
       "      <td>14</td>\n",
       "      <td>4.0</td>\n",
       "      <td>9b3bf43d</td>\n",
       "      <td>A suffix indicating a sexual act related to th...</td>\n",
       "      <td>18.0</td>\n",
       "      <td>0.777778</td>\n",
       "      <td>good</td>\n",
       "    </tr>\n",
       "    <tr>\n",
       "      <th>...</th>\n",
       "      <td>...</td>\n",
       "      <td>...</td>\n",
       "      <td>...</td>\n",
       "      <td>...</td>\n",
       "      <td>...</td>\n",
       "      <td>...</td>\n",
       "      <td>...</td>\n",
       "      <td>...</td>\n",
       "      <td>...</td>\n",
       "    </tr>\n",
       "    <tr>\n",
       "      <th>1013595</th>\n",
       "      <td>2778465</td>\n",
       "      <td>#NAME?</td>\n",
       "      <td>7</td>\n",
       "      <td>9.0</td>\n",
       "      <td>5eb87fc4</td>\n",
       "      <td>The universal suffix to any word, added purely...</td>\n",
       "      <td>16.0</td>\n",
       "      <td>0.437500</td>\n",
       "      <td>controversial</td>\n",
       "    </tr>\n",
       "    <tr>\n",
       "      <th>1018269</th>\n",
       "      <td>2788468</td>\n",
       "      <td>#NAME?</td>\n",
       "      <td>25</td>\n",
       "      <td>4.0</td>\n",
       "      <td>9bd9138f</td>\n",
       "      <td>its a smiling stick man</td>\n",
       "      <td>29.0</td>\n",
       "      <td>0.862069</td>\n",
       "      <td>good</td>\n",
       "    </tr>\n",
       "    <tr>\n",
       "      <th>1022292</th>\n",
       "      <td>2797419</td>\n",
       "      <td>#NAME?</td>\n",
       "      <td>14</td>\n",
       "      <td>13.0</td>\n",
       "      <td>eada73cd</td>\n",
       "      <td>Smiley for boring or going to sleep</td>\n",
       "      <td>27.0</td>\n",
       "      <td>0.518519</td>\n",
       "      <td>controversial</td>\n",
       "    </tr>\n",
       "    <tr>\n",
       "      <th>1028323</th>\n",
       "      <td>2811710</td>\n",
       "      <td>#NAME?</td>\n",
       "      <td>9</td>\n",
       "      <td>4.0</td>\n",
       "      <td>19581a71</td>\n",
       "      <td>suffix; derived from the word abundance. It's ...</td>\n",
       "      <td>13.0</td>\n",
       "      <td>0.692308</td>\n",
       "      <td>good</td>\n",
       "    </tr>\n",
       "    <tr>\n",
       "      <th>1030045</th>\n",
       "      <td>2815982</td>\n",
       "      <td>#NAME?</td>\n",
       "      <td>5</td>\n",
       "      <td>1.0</td>\n",
       "      <td>6b4845e7</td>\n",
       "      <td>means exel like excel. the first dash and the ...</td>\n",
       "      <td>6.0</td>\n",
       "      <td>0.833333</td>\n",
       "      <td>good</td>\n",
       "    </tr>\n",
       "  </tbody>\n",
       "</table>\n",
       "<p>186 rows × 9 columns</p>\n",
       "</div>"
      ],
      "text/plain": [
       "         word_id    word  up_votes  down_votes    author  \\\n",
       "8439       21019  #NAME?         6        10.0  cef9b925   \n",
       "8443       21025  #NAME?         3         4.0  cef9b925   \n",
       "9261       22597  #NAME?        12        14.0  25eb7360   \n",
       "9723       23572  #NAME?         7        11.0  e6ba9da5   \n",
       "12744      30057  #NAME?        14         4.0  9b3bf43d   \n",
       "...          ...     ...       ...         ...       ...   \n",
       "1013595  2778465  #NAME?         7         9.0  5eb87fc4   \n",
       "1018269  2788468  #NAME?        25         4.0  9bd9138f   \n",
       "1022292  2797419  #NAME?        14        13.0  eada73cd   \n",
       "1028323  2811710  #NAME?         9         4.0  19581a71   \n",
       "1030045  2815982  #NAME?         5         1.0  6b4845e7   \n",
       "\n",
       "                                                definition  total_votes  \\\n",
       "8439     A suffix added to some words to add a ghetto s...         16.0   \n",
       "8443     A suffix in replace of words that end with a -...          7.0   \n",
       "9261     used like pig latin and attached to the end of...         26.0   \n",
       "9723                                              one love         18.0   \n",
       "12744    A suffix indicating a sexual act related to th...         18.0   \n",
       "...                                                    ...          ...   \n",
       "1013595  The universal suffix to any word, added purely...         16.0   \n",
       "1018269                            its a smiling stick man         29.0   \n",
       "1022292                Smiley for boring or going to sleep         27.0   \n",
       "1028323  suffix; derived from the word abundance. It's ...         13.0   \n",
       "1030045  means exel like excel. the first dash and the ...          6.0   \n",
       "\n",
       "         good_ratio            cat  \n",
       "8439       0.375000            bad  \n",
       "8443       0.428571  controversial  \n",
       "9261       0.461538  controversial  \n",
       "9723       0.388889            bad  \n",
       "12744      0.777778           good  \n",
       "...             ...            ...  \n",
       "1013595    0.437500  controversial  \n",
       "1018269    0.862069           good  \n",
       "1022292    0.518519  controversial  \n",
       "1028323    0.692308           good  \n",
       "1030045    0.833333           good  \n",
       "\n",
       "[186 rows x 9 columns]"
      ]
     },
     "execution_count": 32,
     "metadata": {},
     "output_type": "execute_result"
    }
   ],
   "source": [
    "# seems to be some data corruption here\n",
    "data[data['word']==\"#NAME?\"]"
   ]
  },
  {
   "cell_type": "code",
   "execution_count": 33,
   "metadata": {},
   "outputs": [],
   "source": [
    "data = data[data['word']!=\"#NAME?\"]"
   ]
  },
  {
   "cell_type": "markdown",
   "metadata": {},
   "source": [
    "## Definition lengths"
   ]
  },
  {
   "cell_type": "code",
   "execution_count": 34,
   "metadata": {},
   "outputs": [],
   "source": [
    "# characters vs. words\n",
    "char_lengths = data['definition'].astype(str).apply(len)\n",
    "word_lengths = data['definition'].astype(str).str.split().apply(len)"
   ]
  },
  {
   "cell_type": "code",
   "execution_count": 35,
   "metadata": {},
   "outputs": [
    {
     "data": {
      "text/plain": [
       "count    973102.000000\n",
       "mean        165.542778\n",
       "std         259.043811\n",
       "min           1.000000\n",
       "25%          53.000000\n",
       "50%         100.000000\n",
       "75%         186.000000\n",
       "max       32396.000000\n",
       "Name: definition, dtype: float64"
      ]
     },
     "execution_count": 35,
     "metadata": {},
     "output_type": "execute_result"
    }
   ],
   "source": [
    "char_lengths.describe()"
   ]
  },
  {
   "cell_type": "code",
   "execution_count": 36,
   "metadata": {},
   "outputs": [
    {
     "data": {
      "text/plain": [
       "count    973102.000000\n",
       "mean         29.328661\n",
       "std          45.191971\n",
       "min           1.000000\n",
       "25%          10.000000\n",
       "50%          18.000000\n",
       "75%          33.000000\n",
       "max        4499.000000\n",
       "Name: definition, dtype: float64"
      ]
     },
     "execution_count": 36,
     "metadata": {},
     "output_type": "execute_result"
    }
   ],
   "source": [
    "word_lengths.describe()"
   ]
  },
  {
   "cell_type": "code",
   "execution_count": 37,
   "metadata": {},
   "outputs": [],
   "source": [
    "data['char_len'] = char_lengths\n",
    "data['word_len'] = word_lengths"
   ]
  },
  {
   "cell_type": "code",
   "execution_count": 38,
   "metadata": {},
   "outputs": [
    {
     "data": {
      "text/plain": [
       "cat\n",
       "bad              0.33\n",
       "controversial    0.35\n",
       "good             0.32\n",
       "dtype: float64"
      ]
     },
     "execution_count": 38,
     "metadata": {},
     "output_type": "execute_result"
    }
   ],
   "source": [
    "# to get percents: https://stackoverflow.com/questions/23627782/pandas-groupby-size-and-percentages\n",
    "data[data['word_len']<1000].groupby('cat').size().transform(lambda x: round(x/sum(x),2))"
   ]
  },
  {
   "cell_type": "code",
   "execution_count": 39,
   "metadata": {},
   "outputs": [
    {
     "data": {
      "text/plain": [
       "cat\n",
       "bad              0.19\n",
       "controversial    0.42\n",
       "good             0.39\n",
       "dtype: float64"
      ]
     },
     "execution_count": 39,
     "metadata": {},
     "output_type": "execute_result"
    }
   ],
   "source": [
    "data[data['word_len']>1000].groupby('cat').size().transform(lambda x: round(x/sum(x),2))"
   ]
  },
  {
   "cell_type": "code",
   "execution_count": 40,
   "metadata": {},
   "outputs": [],
   "source": [
    "# https://stackoverflow.com/questions/46020761/pandas-numpy-round-down-to-nearest-100\n",
    "data['word_len_bucket'] = (data['word_len'] / 100).astype(int) * 100"
   ]
  },
  {
   "cell_type": "code",
   "execution_count": 41,
   "metadata": {
    "scrolled": true
   },
   "outputs": [
    {
     "data": {
      "text/plain": [
       "word_len_bucket\n",
       "0       0.960443\n",
       "100     0.029630\n",
       "200     0.005903\n",
       "300     0.002090\n",
       "400     0.000893\n",
       "500     0.000433\n",
       "600     0.000228\n",
       "700     0.000118\n",
       "800     0.000075\n",
       "900     0.000044\n",
       "1000    0.000040\n",
       "1100    0.000026\n",
       "1200    0.000021\n",
       "1300    0.000012\n",
       "1400    0.000008\n",
       "1500    0.000005\n",
       "1600    0.000005\n",
       "1700    0.000004\n",
       "1800    0.000001\n",
       "1900    0.000002\n",
       "2000    0.000002\n",
       "2100    0.000001\n",
       "2200    0.000003\n",
       "2300    0.000002\n",
       "2400    0.000001\n",
       "2500    0.000001\n",
       "2700    0.000001\n",
       "2800    0.000002\n",
       "2900    0.000001\n",
       "3000    0.000001\n",
       "3700    0.000001\n",
       "3800    0.000001\n",
       "4400    0.000001\n",
       "dtype: float64"
      ]
     },
     "execution_count": 41,
     "metadata": {},
     "output_type": "execute_result"
    }
   ],
   "source": [
    "# look at dist. of word lengths\n",
    "data.groupby('word_len_bucket').size().transform(lambda x: x/sum(x))"
   ]
  },
  {
   "cell_type": "code",
   "execution_count": 42,
   "metadata": {},
   "outputs": [],
   "source": [
    "# drop definitions above 299 words... may need to drop even more \n",
    "data = data[data['word_len'] < 300]"
   ]
  },
  {
   "cell_type": "code",
   "execution_count": 43,
   "metadata": {},
   "outputs": [
    {
     "name": "stdout",
     "output_type": "stream",
     "text": [
      "len 0\n",
      "0\n",
      "len 1\n",
      "0\n",
      "len 2\n",
      "3853\n",
      "len 3\n",
      "14309\n",
      "len 4\n",
      "33676\n",
      "len 5\n",
      "63841\n",
      "len 6\n",
      "99909\n",
      "len 7\n",
      "136990\n",
      "len 8\n",
      "172985\n",
      "len 9\n",
      "208289\n",
      "len 10\n",
      "243084\n"
     ]
    }
   ],
   "source": [
    "# look at the too-short end of the spectrum\n",
    "for i in range(0,11):\n",
    "    print(\"len \" + str(i))\n",
    "    print(len(data[data['word_len'] < i]))"
   ]
  },
  {
   "cell_type": "code",
   "execution_count": 44,
   "metadata": {},
   "outputs": [],
   "source": [
    "# take only definitions longer than 4 words\n",
    "data = data[data['word_len']>4]"
   ]
  },
  {
   "cell_type": "markdown",
   "metadata": {},
   "source": [
    "## Write to file"
   ]
  },
  {
   "cell_type": "code",
   "execution_count": 45,
   "metadata": {},
   "outputs": [
    {
     "name": "stdout",
     "output_type": "stream",
     "text": [
      "568755\n",
      "905345\n"
     ]
    }
   ],
   "source": [
    "# how many words do we have? how many definitions? after cleaning\n",
    "print(len(data['word'].unique()))\n",
    "print(len(data))"
   ]
  },
  {
   "cell_type": "code",
   "execution_count": 47,
   "metadata": {},
   "outputs": [],
   "source": [
    "# reassign the bins because we've dropped more rows\n",
    "data['cat'] = pd.qcut(data['good_ratio'], q = 3, labels = [\"bad\", \"controversial\", \"good\"])"
   ]
  },
  {
   "cell_type": "code",
   "execution_count": 48,
   "metadata": {},
   "outputs": [],
   "source": [
    "# write this final dataset to file \n",
    "data.to_csv(\"../data/clean_data.csv\", index = False)"
   ]
  },
  {
   "cell_type": "code",
   "execution_count": null,
   "metadata": {},
   "outputs": [],
   "source": []
  }
 ],
 "metadata": {
  "kernelspec": {
   "display_name": "nlp",
   "language": "python",
   "name": "nlp"
  },
  "language_info": {
   "codemirror_mode": {
    "name": "ipython",
    "version": 3
   },
   "file_extension": ".py",
   "mimetype": "text/x-python",
   "name": "python",
   "nbconvert_exporter": "python",
   "pygments_lexer": "ipython3",
   "version": "3.6.12"
  }
 },
 "nbformat": 4,
 "nbformat_minor": 4
}
