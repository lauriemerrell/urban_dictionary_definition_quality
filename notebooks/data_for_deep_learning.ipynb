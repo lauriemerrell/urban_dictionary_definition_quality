{
 "cells": [
  {
   "cell_type": "code",
   "execution_count": 19,
   "metadata": {},
   "outputs": [],
   "source": [
    "# need to convert string category labels to integers and add a validation set\n",
    "# also need to shuffle order - could matter for deep learning (more than SVM)\n",
    "\n",
    "# imports\n",
    "import pandas as pd"
   ]
  },
  {
   "cell_type": "code",
   "execution_count": 20,
   "metadata": {},
   "outputs": [],
   "source": [
    "train = pd.read_csv(\"../data/svm_data/train.csv\")\n",
    "test = pd.read_csv(\"../data/svm_data/test.csv\")"
   ]
  },
  {
   "cell_type": "code",
   "execution_count": 21,
   "metadata": {},
   "outputs": [
    {
     "data": {
      "text/plain": [
       "0.8"
      ]
     },
     "execution_count": 21,
     "metadata": {},
     "output_type": "execute_result"
    }
   ],
   "source": [
    "len(train) / (len(train) + len(test))"
   ]
  },
  {
   "cell_type": "code",
   "execution_count": 22,
   "metadata": {},
   "outputs": [],
   "source": [
    "# take 1/4 of train as validation set\n",
    "val = train.sample(frac = .25)"
   ]
  },
  {
   "cell_type": "code",
   "execution_count": 23,
   "metadata": {},
   "outputs": [],
   "source": [
    "# remove validation set from train\n",
    "train = train[~train.index.isin(val.index)]"
   ]
  },
  {
   "cell_type": "code",
   "execution_count": 24,
   "metadata": {},
   "outputs": [],
   "source": [
    "# shuffle order\n",
    "# https://stackoverflow.com/questions/29576430/shuffle-dataframe-rows\n",
    "test = test.sample(frac = 1)\n",
    "train = train.sample(frac = 1)\n",
    "val = val.sample(frac = 1)"
   ]
  },
  {
   "cell_type": "code",
   "execution_count": 25,
   "metadata": {},
   "outputs": [],
   "source": [
    "# convert string categories to integers\n",
    "int_cats = {\"good\": 0, \"controversial\": 1, \"bad\": 2}\n",
    "for data in [test, val, train]:\n",
    "    data['cat'] = data['cat'].map(int_cats)"
   ]
  },
  {
   "cell_type": "code",
   "execution_count": 26,
   "metadata": {},
   "outputs": [],
   "source": [
    "test.to_csv(\"../data/deep_learning_data2/test.csv\",)\n",
    "train.to_csv(\"../data/deep_learning_data2/train.csv\")\n",
    "val.to_csv(\"../data/deep_learning_data2/val.csv\")"
   ]
  },
  {
   "cell_type": "code",
   "execution_count": null,
   "metadata": {},
   "outputs": [],
   "source": []
  }
 ],
 "metadata": {
  "kernelspec": {
   "display_name": "nlp",
   "language": "python",
   "name": "nlp"
  },
  "language_info": {
   "codemirror_mode": {
    "name": "ipython",
    "version": 3
   },
   "file_extension": ".py",
   "mimetype": "text/x-python",
   "name": "python",
   "nbconvert_exporter": "python",
   "pygments_lexer": "ipython3",
   "version": "3.6.12"
  }
 },
 "nbformat": 4,
 "nbformat_minor": 4
}
